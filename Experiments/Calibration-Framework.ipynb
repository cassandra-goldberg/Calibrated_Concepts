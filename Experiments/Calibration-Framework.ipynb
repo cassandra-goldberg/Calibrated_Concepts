{
 "cells": [
  {
   "cell_type": "code",
   "execution_count": null,
   "id": "2e90c1d8-e0d2-46d4-9c23-941b88cba68d",
   "metadata": {
    "tags": []
   },
   "outputs": [],
   "source": [
    "import torch\n",
    "from sklearn.model_selection import train_test_split\n",
    "from sklearn.calibration import CalibratedClassifierCV\n",
    "import torch.optim as optim\n",
    "import torch.nn as nn\n",
    "\n",
    "device = \"cuda\" if torch.cuda.is_available() else \"cpu\"\n",
    "print(device)"
   ]
  },
  {
   "cell_type": "markdown",
   "id": "311be61d-5189-4677-8d0e-4a0e8b1ed4b9",
   "metadata": {},
   "source": [
    "# Get Data and Base Model"
   ]
  },
  {
   "cell_type": "code",
   "execution_count": null,
   "id": "d0eefab3-cf46-413c-88fb-b2e4af656ead",
   "metadata": {},
   "outputs": [],
   "source": [
    "dataset_name = 'CLE"
   ]
  },
  {
   "cell_type": "markdown",
   "id": "183a8763-21f7-40b2-8093-5cbd92b3aa91",
   "metadata": {},
   "source": [
    "## Platt Scaling"
   ]
  },
  {
   "cell_type": "code",
   "execution_count": null,
   "id": "798ddeca-3d5d-48b1-97c6-8da62e932908",
   "metadata": {},
   "outputs": [],
   "source": [
    "platt_calibrated_model = CalibratedClassifierCV(base_model, method='sigmoid', cv='prefit')\n",
    "platt_calibrated_model.fit(X_cal, y_cal)  # Fit calibration on validation set"
   ]
  },
  {
   "cell_type": "markdown",
   "id": "8782f7bb-7694-4061-9754-2765f018083b",
   "metadata": {},
   "source": [
    "## Isotonic Regression"
   ]
  },
  {
   "cell_type": "code",
   "execution_count": null,
   "id": "49d38f24-380b-48fd-8e84-e9f88d277b7c",
   "metadata": {
    "tags": []
   },
   "outputs": [],
   "source": [
    "isotonic_calibrated_model = CalibratedClassifierCV(base_model, method='isotonic', cv='prefit') \n",
    "isotonic_calibrated_model.fit(X_cal, y_cal)"
   ]
  },
  {
   "cell_type": "markdown",
   "id": "88b0c4bb-e38a-46c4-a89f-884ff4ac8094",
   "metadata": {},
   "source": [
    "## Temperature Scaling"
   ]
  },
  {
   "cell_type": "code",
   "execution_count": null,
   "id": "e28cfe27-81c5-472d-aae9-aa3b81064a5f",
   "metadata": {
    "tags": []
   },
   "outputs": [],
   "source": [
    "class TemperatureScaling(nn.Module):\n",
    "    \"\"\"A simple module for temperature scaling.\"\"\"\n",
    "    def __init__(self, base_model):\n",
    "        super(TemperatureScaling, self).__init__()\n",
    "        self.temperature = nn.Parameter(torch.ones(1) * 1.0)  # Initial temperature is set to 1.0\n",
    "        self.base_model = base_model\n",
    "\n",
    "    def forward(self, x, return_logits=True):\n",
    "        x = x.to(device)\n",
    "        logits = self.base_model(x, return_logits=True)\n",
    "        scaled_logits = logits / self.temperature\n",
    "        if return_logits:\n",
    "            return scaled_logits\n",
    "        else:\n",
    "            return F.softmax(calibrated_logits, dim=1)\n",
    "\n",
    "def train_temperature_scaling(base_model, X_cal, y_cal):\n",
    "    \"\"\"Train temperature scaling using negative log-likelihood. \"\"\"\n",
    "    \n",
    "    # Initialize the temperature scaling model and move it to the appropriate device\n",
    "    temperature_model = TemperatureScaling(base_model).to(device)\n",
    "    optimizer = optim.LBFGS([temperature_model.temperature], max_iter=50, line_search_fn=\"strong_wolfe\")\n",
    "    \n",
    "    # Move inputs and labels to the specified device\n",
    "    X_cal = torch.FloatTensor(X_cal).to(device)\n",
    "    y_cal = torch.LongTensor(y_cal).to(device)\n",
    "    \n",
    "    # Use cross-entropy as the loss function\n",
    "    criterion = nn.CrossEntropyLoss()\n",
    "    \n",
    "    # Closure function for the optimizer\n",
    "    def closure():\n",
    "        optimizer.zero_grad()  # Clear gradients\n",
    "        scaled_logits = temperature_model(X_cal, return_logits=True)  # Scale the logits using the current temperature\n",
    "        loss = criterion(scaled_logits, y_cal)  # Calculate cross-entropy loss\n",
    "        loss.backward()  # Backpropagate\n",
    "        return loss\n",
    "    \n",
    "    # Perform optimization step\n",
    "    optimizer.step(closure)\n",
    "    \n",
    "    # Print the optimal temperature value\n",
    "    print(f\"Optimal temperature: {temperature_model.temperature.item():.4f}\")\n",
    "    \n",
    "    return temperature_model\n",
    "\n",
    "\n",
    "temperature_calibrated_model = train_temperature_scaling(base_model, X_cal, y_cal)"
   ]
  }
 ],
 "metadata": {
  "kernelspec": {
   "display_name": "Python 3 (ipykernel)",
   "language": "python",
   "name": "python3"
  },
  "language_info": {
   "codemirror_mode": {
    "name": "ipython",
    "version": 3
   },
   "file_extension": ".py",
   "mimetype": "text/x-python",
   "name": "python",
   "nbconvert_exporter": "python",
   "pygments_lexer": "ipython3",
   "version": "3.10.10"
  }
 },
 "nbformat": 4,
 "nbformat_minor": 5
}
