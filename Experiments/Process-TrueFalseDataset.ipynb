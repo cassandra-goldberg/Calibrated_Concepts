{
 "cells": [
  {
   "cell_type": "markdown",
   "id": "c3806345-3c6b-41bf-9f74-4b551b29c7d5",
   "metadata": {},
   "source": [
    "# Process True False Dataset\n",
    "\n",
    "Dataset from the paper [The Internal State of an LLM Knows When It's Lying](https://aclanthology.org/2023.findings-emnlp.68.pdf)\n",
    "\n",
    "You can download the dataset [here](http://azariaa.com/Content/Datasets/true-false-dataset.zip)."
   ]
  },
  {
   "cell_type": "code",
   "execution_count": 1,
   "id": "bb8f6c14-d2bf-4573-8048-a08df2634e11",
   "metadata": {},
   "outputs": [
    {
     "name": "stdout",
     "output_type": "stream",
     "text": [
      "Device: cuda\n"
     ]
    }
   ],
   "source": [
    "import pandas as pd\n",
    "import numpy as np\n",
    "import os\n",
    "import torch\n",
    "import matplotlib.pyplot as plt\n",
    "import seaborn as sns\n",
    "\n",
    "from tqdm.notebook import tqdm\n",
    "from transformers import AutoModelForCausalLM, AutoTokenizer\n",
    "\n",
    "from sklearn.metrics.pairwise import cosine_similarity\n",
    "\n",
    "from utils import add_split_column\n",
    "\n",
    "device = \"cuda\" if torch.cuda.is_available() else \"CPU\"\n",
    "print(f'Device: {device}')"
   ]
  },
  {
   "cell_type": "code",
   "execution_count": 2,
   "id": "8ec63df3-9723-46a3-bada-4bf7e38e5938",
   "metadata": {},
   "outputs": [],
   "source": [
    "dataset_name = 'true-false-dataset'\n",
    "categories = ['animals', 'cities', 'companies', 'elements', \n",
    "              'facts', 'generated', 'inventions']\n",
    "only_train = True\n",
    "\n",
    "data_path = f'../Data/{dataset_name}'\n",
    "embeddings_path = f'Embeddings/{dataset_name}'\n",
    "concepts_path = f'Concepts/{dataset_name}'\n",
    "cos_sims_path = f'Cosine_Similarities/{dataset_name}'\n",
    "images_path = f'Images/{dataset_name}'"
   ]
  },
  {
   "cell_type": "code",
   "execution_count": 3,
   "id": "5240aa09-dc31-45f6-859e-f3e5b77d3fbe",
   "metadata": {},
   "outputs": [
    {
     "name": "stdout",
     "output_type": "stream",
     "text": [
      "Embeddings file found. No need to load model and tokenizer.\n"
     ]
    }
   ],
   "source": [
    "embeddings_file = os.path.join(embeddings_path, 'embeddings.pt')\n",
    "    \n",
    "if os.path.exists(embeddings_file):\n",
    "    print('Embeddings file found. No need to load model and tokenizer.')\n",
    "    model = None\n",
    "    tokenizer = None\n",
    "else:\n",
    "    print('Embeddings file NOT found. Loading model and tokenizer...')\n",
    "    \n",
    "    from huggingface_hub import notebook_login\n",
    "    notebook_login()\n",
    "    \n",
    "    model_name_or_path = \"meta-llama/Meta-Llama-3-8B-Instruct\"\n",
    "    \n",
    "    tokenizer = AutoTokenizer.from_pretrained(model_name_or_path)\n",
    "    tokenizer.pad_token = tokenizer.eos_token\n",
    "    tokenizer.padding_side = \"left\"\n",
    "    \n",
    "    model = AutoModelForCausalLM.from_pretrained(model_name_or_path)\n",
    "    model.to(device)\n",
    "    model.eval()\n",
    "    print('Done.')"
   ]
  },
  {
   "cell_type": "markdown",
   "id": "2a956e43-ba35-4ae6-b4a8-43b6472dd9d9",
   "metadata": {},
   "source": [
    "## Processing statements"
   ]
  },
  {
   "cell_type": "code",
   "execution_count": 4,
   "id": "a588f998-dc4b-4aba-9b00-4bc23ef91f10",
   "metadata": {},
   "outputs": [],
   "source": [
    "def get_category(category, data_path):\n",
    "    cat_path = os.path.join(data_path, f'{category}_true_false.csv')\n",
    "    df_cat = pd.read_csv(cat_path)\n",
    "    df_cat[category] = 1\n",
    "    return df_cat"
   ]
  },
  {
   "cell_type": "code",
   "execution_count": 5,
   "id": "5520ed8c-f445-4df4-b4e4-95e69754fa86",
   "metadata": {},
   "outputs": [],
   "source": [
    "def get_categories(categories, data_path):\n",
    "    df_list = []\n",
    "    for category in categories:\n",
    "        df_cat = get_category(category, data_path=data_path)\n",
    "        df_list.append(df_cat)\n",
    "    metadata_df = pd.concat(df_list, ignore_index=True)\n",
    "    metadata_df = metadata_df.fillna(0)\n",
    "    for category in categories:\n",
    "        metadata_df[category] = metadata_df[category].astype(int)\n",
    "    metadata_df = metadata_df.rename(columns={'label': 'true'})\n",
    "    return metadata_df"
   ]
  },
  {
   "cell_type": "code",
   "execution_count": 6,
   "id": "0b1df244-4b20-422c-ab53-1aab03a2eddc",
   "metadata": {},
   "outputs": [],
   "source": [
    "def get_hidden_states(statements, model, tokenizer, embeddings_path, \n",
    "                      device=device, save=True):\n",
    "    embeddings_file = os.path.join(embeddings_path, 'embeddings.pt')\n",
    "    \n",
    "    if os.path.exists(embeddings_file):\n",
    "        print('   Hidden states file found.')\n",
    "        hidden_states = torch.load(embeddings_file)\n",
    "    else:\n",
    "        print('   Hidden states file NOT found.')\n",
    "        hidden_states = []\n",
    "        for statement in tqdm(statements, desc='Getting hidden states'):\n",
    "            tokenized_prompt = tokenizer(statement, return_tensors=\"pt\").to(device)\n",
    "            output = model(**tokenized_prompt, output_hidden_states=True)\n",
    "            \n",
    "            features = output.hidden_states[-1][0][-1]\n",
    "            hidden_state = features.cpu().detach()\n",
    "            hidden_states.append(hidden_state)\n",
    "            \n",
    "            del output\n",
    "            del features\n",
    "            torch.cuda.empty_cache()\n",
    "\n",
    "        hidden_states = torch.stack(hidden_states, dim=0)\n",
    "        # Center embeddings\n",
    "        average_embedding = torch.mean(hidden_states, 0) \n",
    "        centered_hidden_states = hidden_states - average_embedding\n",
    "        if save:\n",
    "            os.makedirs(embeddings_path, exist_ok=True)\n",
    "            torch.save(hidden_states, embeddings_file)\n",
    "            \n",
    "    return hidden_states"
   ]
  },
  {
   "cell_type": "code",
   "execution_count": 7,
   "id": "f2f9b7fa-5c40-4131-9de7-c9e9a976f97d",
   "metadata": {},
   "outputs": [],
   "source": [
    "def process_data(categories, model, tokenizer, data_path, embeddings_path):\n",
    "    print('Getting statements...', end=' ')\n",
    "    metadata_df = get_categories(categories, data_path=data_path)\n",
    "    metadata_df = add_split_column(metadata_df)\n",
    "    metadata_df.to_csv(os.path.join(data_path, 'metadata.csv'), index=False)\n",
    "    \n",
    "    statements = metadata_df['statement'].to_list()\n",
    "\n",
    "    train_mask = metadata_df['split'] == 'train'\n",
    "    train_metadata_df = metadata_df[train_mask].reset_index(drop=True)\n",
    "    train_metadata_df.to_csv(os.path.join(data_path, 'train_metadata.csv'), index=False)\n",
    "    print('Done.')\n",
    "\n",
    "    print('Getting hidden states...')\n",
    "    hidden_states = get_hidden_states(statements, model, tokenizer, embeddings_path)\n",
    "    train_hidden_states = hidden_states[train_mask]\n",
    "    torch.save(train_hidden_states, os.path.join(embeddings_path, 'train_embeddings.pt'))\n",
    "    print('Done.')\n",
    "\n",
    "    return metadata_df, hidden_states"
   ]
  },
  {
   "cell_type": "code",
   "execution_count": 8,
   "id": "7c12de0a-0af1-4350-a057-2304b62c7066",
   "metadata": {},
   "outputs": [
    {
     "name": "stdout",
     "output_type": "stream",
     "text": [
      "Getting statements... Done.\n",
      "Getting hidden states...\n",
      "   Hidden states file found.\n",
      "Done.\n"
     ]
    }
   ],
   "source": [
    "metadata_df, hidden_states = process_data(categories, model, tokenizer, data_path, embeddings_path)"
   ]
  },
  {
   "cell_type": "code",
   "execution_count": 9,
   "id": "aad90a36-3bfe-479e-951f-932726f3a209",
   "metadata": {},
   "outputs": [
    {
     "name": "stdout",
     "output_type": "stream",
     "text": [
      "Number of statements: 6330\n",
      "Number of true statements: 3187\n",
      "Number of false statements: 3143\n"
     ]
    }
   ],
   "source": [
    "print(f'Number of statements: {metadata_df.shape[0]}')\n",
    "print(f'Number of true statements: {metadata_df[metadata_df[\"true\"] == 1].shape[0]}')\n",
    "print(f'Number of false statements: {metadata_df[metadata_df[\"true\"] == 0].shape[0]}')"
   ]
  },
  {
   "cell_type": "markdown",
   "id": "9c039b2d-be13-4cf9-8b03-5674895f3771",
   "metadata": {},
   "source": [
    "## Computing concepts"
   ]
  },
  {
   "cell_type": "code",
   "execution_count": 10,
   "id": "acb60d4c-9cf4-47c7-a157-aff00c43a187",
   "metadata": {},
   "outputs": [],
   "source": [
    "def compute_single_concept(concept, metadata_df, hidden_states):\n",
    "    # Get embeddings from the concept\n",
    "    hidden_states_cat = hidden_states[metadata_df[concept]==1] \n",
    "    # Get average embedding\n",
    "    concept_vect = torch.mean(hidden_states_cat, 0) \n",
    "    # Normalize vector\n",
    "    concept_vect = concept_vect / concept_vect.norm() \n",
    "    return concept_vect\n",
    "\n",
    "def compute_concepts(metadata_df, hidden_states, concepts_path, save=True, only_train=True):\n",
    "    if only_train:\n",
    "        train_mask = metadata_df['split'] == 'train'\n",
    "        hidden_states = hidden_states[train_mask]\n",
    "        metadata_df = metadata_df[train_mask].reset_index(drop=True)\n",
    "    concept_names = list(metadata_df.columns[1:-1])\n",
    "    concepts = {}\n",
    "\n",
    "    print('Computing concept vectors...', end=' ')\n",
    "    for concept in concept_names:\n",
    "        concept_vect = compute_single_concept(concept, metadata_df, hidden_states)\n",
    "        concepts[concept] = concept_vect\n",
    "    print('Done.')\n",
    "        \n",
    "    if save:\n",
    "        print('Saving concepts...', end=' ')\n",
    "        os.makedirs(concepts_path, exist_ok=True)\n",
    "        if only_train:\n",
    "            concepts_path = os.path.join(concepts_path, 'train_concepts.pt')\n",
    "        else:\n",
    "            concepts_path = os.path.join(concepts_path, 'concepts.pt')\n",
    "        torch.save(concepts, concepts_path)\n",
    "        print('Done.')\n",
    "\n",
    "    print(f'Concepts computed: {list(concepts.keys())}')\n",
    "    return concepts"
   ]
  },
  {
   "cell_type": "code",
   "execution_count": 11,
   "id": "b16fdb6f-1f86-4a3f-96c2-2b653c254645",
   "metadata": {},
   "outputs": [
    {
     "name": "stdout",
     "output_type": "stream",
     "text": [
      "Computing concept vectors... Done.\n",
      "Saving concepts... Done.\n",
      "Concepts computed: ['true', 'animals', 'cities', 'companies', 'elements', 'facts', 'generated', 'inventions']\n"
     ]
    }
   ],
   "source": [
    "concepts = compute_concepts(metadata_df, hidden_states, concepts_path, only_train=only_train)"
   ]
  },
  {
   "cell_type": "markdown",
   "id": "3b39210c-4073-44cf-bc7d-5b239cb1c640",
   "metadata": {},
   "source": [
    "## Compute cosine similarities"
   ]
  },
  {
   "cell_type": "code",
   "execution_count": 12,
   "id": "bad6c2cb-860c-4ffd-a316-00049b43d649",
   "metadata": {},
   "outputs": [],
   "source": [
    "def compute_cosine_sims(hidden_states, metadata_df, concept_embs, concept_names, cos_sims_path,\n",
    "                        save=True, only_train=True):\n",
    "    if only_train:\n",
    "        train_mask = metadata_df['split'] == 'train'\n",
    "        hidden_states = hidden_states[train_mask]\n",
    "        metadata_df = metadata_df[train_mask].reset_index(drop=True)\n",
    "    print('Computing cosine similarities...', end=' ')\n",
    "    similarities = cosine_similarity(hidden_states, concept_embs)\n",
    "    cosine_similarity_df = pd.DataFrame(similarities, columns=concept_names)\n",
    "    print('Done.')\n",
    "    if save:\n",
    "        print('Saving cosine similarities...', end=' ')\n",
    "        os.makedirs(cos_sims_path, exist_ok=True)\n",
    "        if only_train:\n",
    "            cos_sims_df_path = os.path.join(cos_sims_path, 'train_cosine_similarities.csv')\n",
    "        else:\n",
    "            cos_sims_df_path = os.path.join(cos_sims_path, 'cosine_similarities.csv')\n",
    "        cosine_similarity_df.to_csv(cos_sims_df_path, index=False)\n",
    "        print('Done.')\n",
    "        \n",
    "    return cosine_similarity_df"
   ]
  },
  {
   "cell_type": "code",
   "execution_count": 13,
   "id": "810c89b6-10f0-42f6-b228-c2b3eb7b6855",
   "metadata": {},
   "outputs": [
    {
     "name": "stdout",
     "output_type": "stream",
     "text": [
      "Computing cosine similarities... Done.\n",
      "Saving cosine similarities... Done.\n"
     ]
    }
   ],
   "source": [
    "concept_embs = torch.stack(list(concepts.values()), dim=0)\n",
    "concept_names = list(concepts.keys())\n",
    "cosine_similarity_df = compute_cosine_sims(hidden_states, metadata_df, concept_embs, concept_names, cos_sims_path,\n",
    "                                          only_train=only_train)"
   ]
  },
  {
   "cell_type": "code",
   "execution_count": 14,
   "id": "ddbfa5d9-f64f-4acf-b532-b84ad6ac599f",
   "metadata": {},
   "outputs": [],
   "source": [
    "def plot_cos_sim_histograms(metadata_df, cosine_similarity_df, images_path, only_train=True):\n",
    "    if only_train:\n",
    "        train_mask = metadata_df['split'] == 'train'\n",
    "        metadata_df = metadata_df[train_mask].reset_index(drop=True)\n",
    "    concept_names = list(metadata_df.columns[1:-1])\n",
    "    fig, axs = plt.subplots(2, 4, figsize=(8,4), sharex=True)\n",
    "    bins = np.linspace(0, 1, 20)\n",
    "    for i, concept in enumerate(concept_names):\n",
    "        ix, iy = int(i/4), i%4\n",
    "        sns.kdeplot(cosine_similarity_df[metadata_df[concept]==1][concept], \n",
    "                    label='In concept', ax=axs[ix,iy])\n",
    "        sns.kdeplot(cosine_similarity_df[metadata_df[concept]==0][concept], \n",
    "                    label='Out of concept', ax=axs[ix,iy])\n",
    "        axs[ix,iy].set_xlabel('')\n",
    "        axs[ix,iy].set_ylabel('')\n",
    "        axs[ix,iy].set_title(concept)\n",
    "    \n",
    "    handles, labels = axs[0,0].get_legend_handles_labels()\n",
    "    lgd = fig.legend(handles, labels, bbox_to_anchor=(1.2, 0.9))\n",
    "    xl = fig.supxlabel('Cosine Similarity')\n",
    "    yl = fig.supylabel('Proportion of samples')\n",
    "    title = fig.suptitle('Cosine similarity in/out of concept')\n",
    "    fig.tight_layout()\n",
    "\n",
    "    print('Saving image...', end=' ')\n",
    "    os.makedirs(images_path, exist_ok=True)\n",
    "    if only_train:\n",
    "        cos_sims_image_path = os.path.join(images_path, 'train_cosine_similarities.png')\n",
    "    else:\n",
    "        cos_sims_image_path = os.path.join(images_path, 'cosine_similarities.png')\n",
    "    fig.savefig(cos_sims_image_path, bbox_extra_artists=(lgd,xl,yl,title), \n",
    "                bbox_inches='tight')\n",
    "    print('Done.')\n",
    "    \n",
    "    plt.show()"
   ]
  },
  {
   "cell_type": "code",
   "execution_count": 15,
   "id": "1fa13d31-70ad-4230-97f2-d9f43200fe69",
   "metadata": {},
   "outputs": [
    {
     "name": "stdout",
     "output_type": "stream",
     "text": [
      "Saving image... Done.\n"
     ]
    },
    {
     "data": {
      "image/png": "[encoded data removed]",
      "text/plain": [
       "<Figure size 800x400 with 8 Axes>"
      ]
     },
     "metadata": {},
     "output_type": "display_data"
    }
   ],
   "source": [
    "plot_cos_sim_histograms(metadata_df, cosine_similarity_df, images_path, only_train=only_train)"
   ]
  },
  {
   "cell_type": "code",
   "execution_count": 16,
   "id": "71b8af53-932b-4d5e-8759-591a70003892",
   "metadata": {},
   "outputs": [],
   "source": [
    "def show_similarity_concepts(concepts, images_path, only_train=True):\n",
    "    concept_embs = torch.stack(list(concepts.values()), dim=0)\n",
    "    concept_names = list(concepts.keys())\n",
    "    cos_sim_concepts_df = compute_cosine_sims(concept_embs, \n",
    "                                              metadata_df,\n",
    "                                              concept_embs, \n",
    "                                              concept_names, \n",
    "                                              '', only_train=False, save=False)\n",
    "    cos_sim_concepts_df['Concept'] = list(concepts.keys())\n",
    "    cos_sim_concepts_df = cos_sim_concepts_df.set_index('Concept')\n",
    "    ax = sns.heatmap(cos_sim_concepts_df, annot=True, fmt=\".2f\", cmap=\"Blues\",\n",
    "               cbar_kws={'label': 'Cosine similarity'})\n",
    "    ax.set_title('Cosine similarity between concepts')\n",
    "\n",
    "    print('Saving image...', end=' ')\n",
    "    os.makedirs(images_path, exist_ok=True)\n",
    "    if only_train:\n",
    "        cos_sims_image_path = os.path.join(images_path, 'train_cosine_similarities_concepts.png')\n",
    "    else:\n",
    "        cos_sims_image_path = os.path.join(images_path, 'cosine_similarities_concepts.png')\n",
    "    plt.savefig(cos_sims_image_path)\n",
    "    print('Done.')\n",
    "    \n",
    "    plt.show()"
   ]
  },
  {
   "cell_type": "code",
   "execution_count": 17,
   "id": "f9bbac3e-cd87-436e-ba07-007dc8a23c61",
   "metadata": {},
   "outputs": [
    {
     "name": "stdout",
     "output_type": "stream",
     "text": [
      "Computing cosine similarities... Done.\n",
      "Saving image... Done.\n"
     ]
    },
    {
     "data": {
      "image/png": "[encoded data removed]",
      "text/plain": [
       "<Figure size 640x480 with 2 Axes>"
      ]
     },
     "metadata": {},
     "output_type": "display_data"
    }
   ],
   "source": [
    "show_similarity_concepts(concepts, images_path, only_train)"
   ]
  },
  {
   "cell_type": "markdown",
   "id": "c0f67313-3c69-41ca-9929-8986148253cd",
   "metadata": {},
   "source": [
    "## Concept presence models"
   ]
  },
  {
   "cell_type": "code",
   "execution_count": 18,
   "id": "076dc1ec-7137-47da-bbd5-14cab5b8da62",
   "metadata": {},
   "outputs": [],
   "source": [
    "train_metadata_df = pd.read_csv(os.path.join(data_path, 'train_metadata.csv'))\n",
    "train_cosine_similarity_df = pd.read_csv(os.path.join(cos_sims_path, 'train_cosine_similarities.csv'))\n",
    "train_hidden_states = torch.load(os.path.join(embeddings_path, 'train_embeddings.pt'))"
   ]
  },
  {
   "cell_type": "markdown",
   "id": "e2c20d9a-a4ac-4557-b6b9-16f70e8fe6b8",
   "metadata": {},
   "source": [
    "### (M1) Cosine similarity global threshold"
   ]
  },
  {
   "cell_type": "code",
   "execution_count": 19,
   "id": "1cf9ee8a-9c89-45cd-aabd-4f050b0e03e7",
   "metadata": {},
   "outputs": [
    {
     "name": "stdout",
     "output_type": "stream",
     "text": [
      "Global threshold: 0.833 | Train error: 0.127\n",
      "Concept: true       | Train error: 0.490\n",
      "Concept: animals    | Train error: 0.017\n",
      "Concept: cities     | Train error: 0.088\n",
      "Concept: companies  | Train error: 0.070\n",
      "Concept: elements   | Train error: 0.009\n",
      "Concept: facts      | Train error: 0.118\n",
      "Concept: generated  | Train error: 0.155\n",
      "Concept: inventions | Train error: 0.071\n"
     ]
    }
   ],
   "source": [
    "from models import get_global_threshold\n",
    "\n",
    "m1_models, m1_global_train_error, m1_train_errors = get_global_threshold(train_metadata_df, train_cosine_similarity_df)\n",
    "m1_train_errors['Model'] = '(M1) Global Threshold'"
   ]
  },
  {
   "cell_type": "markdown",
   "id": "1d46f3a5-d027-441b-af91-7fe9a314eb8b",
   "metadata": {},
   "source": [
    "### (M2) Cosine similarity individual threshold"
   ]
  },
  {
   "cell_type": "code",
   "execution_count": 20,
   "id": "c915d7fc-b6ee-4615-b510-47796d1ca3eb",
   "metadata": {},
   "outputs": [
    {
     "name": "stdout",
     "output_type": "stream",
     "text": [
      "Concept: true       | Threshold: -0.528 | Train error: 0.499\n",
      "Concept: animals    | Threshold: 0.836 | Train error: 0.017\n",
      "Concept: cities     | Threshold: 0.809 | Train error: 0.080\n",
      "Concept: companies  | Threshold: 0.784 | Train error: 0.017\n",
      "Concept: elements   | Threshold: 0.820 | Train error: 0.007\n",
      "Concept: facts      | Threshold: 0.879 | Train error: 0.092\n",
      "Concept: generated  | Threshold: 0.933 | Train error: 0.043\n",
      "Concept: inventions | Threshold: 0.819 | Train error: 0.064\n"
     ]
    }
   ],
   "source": [
    "from models import get_individual_thresholds\n",
    "\n",
    "m2_models, m2_train_errors = get_individual_thresholds(train_metadata_df, train_cosine_similarity_df)\n",
    "m2_train_errors['Model'] = '(M2) Individual Threshold'"
   ]
  },
  {
   "cell_type": "markdown",
   "id": "95a99ff1-8e76-4e1a-b4fb-fe13fe11968b",
   "metadata": {},
   "source": [
    "### (M3) Global cosine similarity logistic regression"
   ]
  },
  {
   "cell_type": "code",
   "execution_count": 21,
   "id": "7c0e4520-716b-4c12-85c5-e0343c374bb5",
   "metadata": {},
   "outputs": [
    {
     "name": "stdout",
     "output_type": "stream",
     "text": [
      "Global train error: 0.138\n",
      "Concept: true       | Train error: 0.499\n",
      "Concept: animals    | Train error: 0.023\n",
      "Concept: cities     | Train error: 0.124\n",
      "Concept: companies  | Train error: 0.126\n",
      "Concept: elements   | Train error: 0.015\n",
      "Concept: facts      | Train error: 0.093\n",
      "Concept: generated  | Train error: 0.126\n",
      "Concept: inventions | Train error: 0.102\n"
     ]
    }
   ],
   "source": [
    "from models import get_global_similarity_log_reg\n",
    "\n",
    "m3_models, m3_global_train_error, m3_train_errors = get_global_similarity_log_reg(train_metadata_df, \n",
    "                                                                                  train_cosine_similarity_df)\n",
    "m3_train_errors['Model'] = '(M3) Global Similarity LogReg'"
   ]
  },
  {
   "cell_type": "markdown",
   "id": "54b467f4-30f6-4ddb-81a2-c287a572bb71",
   "metadata": {},
   "source": [
    "### (M4) Cosine similarity logistic regression"
   ]
  },
  {
   "cell_type": "code",
   "execution_count": 22,
   "id": "51dbb43a-9628-4f4e-92e7-23af9ec2e035",
   "metadata": {},
   "outputs": [
    {
     "name": "stdout",
     "output_type": "stream",
     "text": [
      "Concept: true       | Train error: 0.520\n",
      "Concept: animals    | Train error: 0.019\n",
      "Concept: cities     | Train error: 0.082\n",
      "Concept: companies  | Train error: 0.025\n",
      "Concept: elements   | Train error: 0.010\n",
      "Concept: facts      | Train error: 0.096\n",
      "Concept: generated  | Train error: 0.043\n",
      "Concept: inventions | Train error: 0.134\n"
     ]
    }
   ],
   "source": [
    "from models import get_similarity_log_reg\n",
    "\n",
    "m4_models, m4_train_errors = get_similarity_log_reg(train_metadata_df, train_cosine_similarity_df)\n",
    "m4_train_errors['Model'] = '(M4) Individual Similarity LogReg'"
   ]
  },
  {
   "cell_type": "markdown",
   "id": "b58d9415-2b72-484b-be19-fc717c1e3279",
   "metadata": {},
   "source": [
    "### (M5) Embeddings logistic regression"
   ]
  },
  {
   "cell_type": "code",
   "execution_count": 23,
   "id": "43fde41f-1d57-4597-9c4b-4621534118f6",
   "metadata": {},
   "outputs": [
    {
     "name": "stdout",
     "output_type": "stream",
     "text": [
      "Concept: true       | Train error: 0.001\n",
      "Concept: animals    | Train error: 0.000\n",
      "Concept: cities     | Train error: 0.000\n",
      "Concept: companies  | Train error: 0.000\n",
      "Concept: elements   | Train error: 0.000\n",
      "Concept: facts      | Train error: 0.000\n",
      "Concept: generated  | Train error: 0.000\n",
      "Concept: inventions | Train error: 0.000\n"
     ]
    }
   ],
   "source": [
    "from models import get_embeddings_log_reg\n",
    "\n",
    "m5_models, m5_train_errors = get_embeddings_log_reg(train_hidden_states, train_metadata_df, train_cosine_similarity_df)\n",
    "m5_train_errors['Model'] = '(M5) Embeddings LogReg'"
   ]
  },
  {
   "cell_type": "markdown",
   "id": "cb69ff3d-10e8-498e-a6ad-a5699f00db77",
   "metadata": {},
   "source": [
    "## Comparing Models"
   ]
  },
  {
   "cell_type": "markdown",
   "id": "a00d4c51-74ff-4e0e-bed6-47490aa3fc03",
   "metadata": {},
   "source": [
    "### Train classification error"
   ]
  },
  {
   "cell_type": "code",
   "execution_count": 24,
   "id": "c7681031-c5af-4a48-a04e-b0a864f44dba",
   "metadata": {},
   "outputs": [
    {
     "data": {
      "text/html": [
       "<div>\n",
       "<style scoped>\n",
       "    .dataframe tbody tr th:only-of-type {\n",
       "        vertical-align: middle;\n",
       "    }\n",
       "\n",
       "    .dataframe tbody tr th {\n",
       "        vertical-align: top;\n",
       "    }\n",
       "\n",
       "    .dataframe thead th {\n",
       "        text-align: right;\n",
       "    }\n",
       "</style>\n",
       "<table border=\"1\" class=\"dataframe\">\n",
       "  <thead>\n",
       "    <tr style=\"text-align: right;\">\n",
       "      <th></th>\n",
       "      <th>true</th>\n",
       "      <th>animals</th>\n",
       "      <th>cities</th>\n",
       "      <th>companies</th>\n",
       "      <th>elements</th>\n",
       "      <th>facts</th>\n",
       "      <th>generated</th>\n",
       "      <th>inventions</th>\n",
       "    </tr>\n",
       "    <tr>\n",
       "      <th>Model</th>\n",
       "      <th></th>\n",
       "      <th></th>\n",
       "      <th></th>\n",
       "      <th></th>\n",
       "      <th></th>\n",
       "      <th></th>\n",
       "      <th></th>\n",
       "      <th></th>\n",
       "    </tr>\n",
       "  </thead>\n",
       "  <tbody>\n",
       "    <tr>\n",
       "      <th>(M1) Global Threshold</th>\n",
       "      <td>0.489898</td>\n",
       "      <td>0.017318</td>\n",
       "      <td>0.087641</td>\n",
       "      <td>0.070060</td>\n",
       "      <td>0.008922</td>\n",
       "      <td>0.118342</td>\n",
       "      <td>0.155077</td>\n",
       "      <td>0.070585</td>\n",
       "    </tr>\n",
       "    <tr>\n",
       "      <th>(M2) Individual Threshold</th>\n",
       "      <td>0.498819</td>\n",
       "      <td>0.017318</td>\n",
       "      <td>0.079507</td>\n",
       "      <td>0.016531</td>\n",
       "      <td>0.006822</td>\n",
       "      <td>0.092102</td>\n",
       "      <td>0.042771</td>\n",
       "      <td>0.063500</td>\n",
       "    </tr>\n",
       "    <tr>\n",
       "      <th>(M3) Global Similarity LogReg</th>\n",
       "      <td>0.499082</td>\n",
       "      <td>0.023353</td>\n",
       "      <td>0.124114</td>\n",
       "      <td>0.126214</td>\n",
       "      <td>0.015219</td>\n",
       "      <td>0.092627</td>\n",
       "      <td>0.125689</td>\n",
       "      <td>0.101548</td>\n",
       "    </tr>\n",
       "    <tr>\n",
       "      <th>(M4) Individual Similarity LogReg</th>\n",
       "      <td>0.520073</td>\n",
       "      <td>0.019155</td>\n",
       "      <td>0.082131</td>\n",
       "      <td>0.025453</td>\n",
       "      <td>0.009709</td>\n",
       "      <td>0.096300</td>\n",
       "      <td>0.042771</td>\n",
       "      <td>0.134086</td>\n",
       "    </tr>\n",
       "    <tr>\n",
       "      <th>(M5) Embeddings LogReg</th>\n",
       "      <td>0.001050</td>\n",
       "      <td>0.000000</td>\n",
       "      <td>0.000000</td>\n",
       "      <td>0.000000</td>\n",
       "      <td>0.000000</td>\n",
       "      <td>0.000000</td>\n",
       "      <td>0.000000</td>\n",
       "      <td>0.000000</td>\n",
       "    </tr>\n",
       "  </tbody>\n",
       "</table>\n",
       "</div>"
      ],
      "text/plain": [
       "                                       true   animals    cities  companies  \\\n",
       "Model                                                                        \n",
       "(M1) Global Threshold              0.489898  0.017318  0.087641   0.070060   \n",
       "(M2) Individual Threshold          0.498819  0.017318  0.079507   0.016531   \n",
       "(M3) Global Similarity LogReg      0.499082  0.023353  0.124114   0.126214   \n",
       "(M4) Individual Similarity LogReg  0.520073  0.019155  0.082131   0.025453   \n",
       "(M5) Embeddings LogReg             0.001050  0.000000  0.000000   0.000000   \n",
       "\n",
       "                                   elements     facts  generated  inventions  \n",
       "Model                                                                         \n",
       "(M1) Global Threshold              0.008922  0.118342   0.155077    0.070585  \n",
       "(M2) Individual Threshold          0.006822  0.092102   0.042771    0.063500  \n",
       "(M3) Global Similarity LogReg      0.015219  0.092627   0.125689    0.101548  \n",
       "(M4) Individual Similarity LogReg  0.009709  0.096300   0.042771    0.134086  \n",
       "(M5) Embeddings LogReg             0.000000  0.000000   0.000000    0.000000  "
      ]
     },
     "execution_count": 24,
     "metadata": {},
     "output_type": "execute_result"
    }
   ],
   "source": [
    "error_comparison_df = pd.DataFrame.from_dict([m1_train_errors, \n",
    "                                              m2_train_errors,\n",
    "                                              m3_train_errors,\n",
    "                                              m4_train_errors,\n",
    "                                              m5_train_errors\n",
    "                                             ])\n",
    "error_comparison_df = error_comparison_df.set_index('Model')\n",
    "error_comparison_df"
   ]
  },
  {
   "cell_type": "markdown",
   "id": "162fc9dc-506b-4f24-805c-a795aac90393",
   "metadata": {},
   "source": [
    "### Test classification metrics"
   ]
  },
  {
   "cell_type": "code",
   "execution_count": 25,
   "id": "87fd447c-f53b-49c6-a469-0751b8183641",
   "metadata": {},
   "outputs": [],
   "source": [
    "from utils import get_all_models_classification_metric\n",
    "\n",
    "metadata_df = pd.read_csv(os.path.join(data_path, 'metadata.csv'))\n",
    "cosine_similarity_df = pd.read_csv(os.path.join(cos_sims_path, 'cosine_similarities.csv'))\n",
    "hidden_states = torch.load(os.path.join(embeddings_path, 'embeddings.pt'))\n",
    "\n",
    "test_mask = metadata_df['split'] == 'test'\n",
    "test_hidden_states = hidden_states[test_mask]\n",
    "test_metadata_df = metadata_df[test_mask].reset_index(drop=True)\n",
    "test_cosine_similarity_df = cosine_similarity_df[test_mask].reset_index(drop=True)"
   ]
  },
  {
   "cell_type": "code",
   "execution_count": 26,
   "id": "6a7dfe99-2efd-4e5c-83e3-8612233bfc9c",
   "metadata": {},
   "outputs": [
    {
     "name": "stdout",
     "output_type": "stream",
     "text": [
      "Test Accuracy\n"
     ]
    },
    {
     "data": {
      "text/html": [
       "<div>\n",
       "<style scoped>\n",
       "    .dataframe tbody tr th:only-of-type {\n",
       "        vertical-align: middle;\n",
       "    }\n",
       "\n",
       "    .dataframe tbody tr th {\n",
       "        vertical-align: top;\n",
       "    }\n",
       "\n",
       "    .dataframe thead th {\n",
       "        text-align: right;\n",
       "    }\n",
       "</style>\n",
       "<table border=\"1\" class=\"dataframe\">\n",
       "  <thead>\n",
       "    <tr style=\"text-align: right;\">\n",
       "      <th></th>\n",
       "      <th>true</th>\n",
       "      <th>animals</th>\n",
       "      <th>cities</th>\n",
       "      <th>companies</th>\n",
       "      <th>elements</th>\n",
       "      <th>facts</th>\n",
       "      <th>generated</th>\n",
       "      <th>inventions</th>\n",
       "    </tr>\n",
       "    <tr>\n",
       "      <th>Model</th>\n",
       "      <th></th>\n",
       "      <th></th>\n",
       "      <th></th>\n",
       "      <th></th>\n",
       "      <th></th>\n",
       "      <th></th>\n",
       "      <th></th>\n",
       "      <th></th>\n",
       "    </tr>\n",
       "  </thead>\n",
       "  <tbody>\n",
       "    <tr>\n",
       "      <th>(M1) Global Threshold</th>\n",
       "      <td>0.528242</td>\n",
       "      <td>0.982498</td>\n",
       "      <td>0.901352</td>\n",
       "      <td>0.920446</td>\n",
       "      <td>0.994431</td>\n",
       "      <td>0.876691</td>\n",
       "      <td>0.823389</td>\n",
       "      <td>0.922832</td>\n",
       "    </tr>\n",
       "    <tr>\n",
       "      <th>(M2) Individual Threshold</th>\n",
       "      <td>0.499602</td>\n",
       "      <td>0.981702</td>\n",
       "      <td>0.913286</td>\n",
       "      <td>0.982498</td>\n",
       "      <td>0.993636</td>\n",
       "      <td>0.910103</td>\n",
       "      <td>0.972156</td>\n",
       "      <td>0.926014</td>\n",
       "    </tr>\n",
       "    <tr>\n",
       "      <th>(M3) Global Similarity LogReg</th>\n",
       "      <td>0.506762</td>\n",
       "      <td>0.976134</td>\n",
       "      <td>0.863166</td>\n",
       "      <td>0.867144</td>\n",
       "      <td>0.988862</td>\n",
       "      <td>0.911695</td>\n",
       "      <td>0.866348</td>\n",
       "      <td>0.890215</td>\n",
       "    </tr>\n",
       "    <tr>\n",
       "      <th>(M4) Individual Similarity LogReg</th>\n",
       "      <td>0.485282</td>\n",
       "      <td>0.979316</td>\n",
       "      <td>0.908512</td>\n",
       "      <td>0.974543</td>\n",
       "      <td>0.992045</td>\n",
       "      <td>0.908512</td>\n",
       "      <td>0.971360</td>\n",
       "      <td>0.863166</td>\n",
       "    </tr>\n",
       "    <tr>\n",
       "      <th>(M5) Embeddings LogReg</th>\n",
       "      <td>0.859189</td>\n",
       "      <td>0.998409</td>\n",
       "      <td>1.000000</td>\n",
       "      <td>0.999204</td>\n",
       "      <td>0.999204</td>\n",
       "      <td>0.997613</td>\n",
       "      <td>0.996022</td>\n",
       "      <td>0.998409</td>\n",
       "    </tr>\n",
       "  </tbody>\n",
       "</table>\n",
       "</div>"
      ],
      "text/plain": [
       "                                       true   animals    cities  companies  \\\n",
       "Model                                                                        \n",
       "(M1) Global Threshold              0.528242  0.982498  0.901352   0.920446   \n",
       "(M2) Individual Threshold          0.499602  0.981702  0.913286   0.982498   \n",
       "(M3) Global Similarity LogReg      0.506762  0.976134  0.863166   0.867144   \n",
       "(M4) Individual Similarity LogReg  0.485282  0.979316  0.908512   0.974543   \n",
       "(M5) Embeddings LogReg             0.859189  0.998409  1.000000   0.999204   \n",
       "\n",
       "                                   elements     facts  generated  inventions  \n",
       "Model                                                                         \n",
       "(M1) Global Threshold              0.994431  0.876691   0.823389    0.922832  \n",
       "(M2) Individual Threshold          0.993636  0.910103   0.972156    0.926014  \n",
       "(M3) Global Similarity LogReg      0.988862  0.911695   0.866348    0.890215  \n",
       "(M4) Individual Similarity LogReg  0.992045  0.908512   0.971360    0.863166  \n",
       "(M5) Embeddings LogReg             0.999204  0.997613   0.996022    0.998409  "
      ]
     },
     "execution_count": 26,
     "metadata": {},
     "output_type": "execute_result"
    }
   ],
   "source": [
    "print('Test Accuracy')\n",
    "models = {'(M1) Global Threshold': m1_models,\n",
    "          '(M2) Individual Threshold': m2_models,\n",
    "          '(M3) Global Similarity LogReg': m3_models,\n",
    "          '(M4) Individual Similarity LogReg': m4_models,\n",
    "          '(M5) Embeddings LogReg': m5_models\n",
    "         }\n",
    "acc_df = get_all_models_classification_metric(models, test_metadata_df, test_cosine_similarity_df,\n",
    "                                         test_hidden_states, metric='accuracy')\n",
    "acc_df"
   ]
  },
  {
   "cell_type": "code",
   "execution_count": 27,
   "id": "07207ab6-1618-487b-915c-a4a85332ce5b",
   "metadata": {},
   "outputs": [
    {
     "name": "stdout",
     "output_type": "stream",
     "text": [
      "Test F1\n"
     ]
    },
    {
     "data": {
      "text/html": [
       "<div>\n",
       "<style scoped>\n",
       "    .dataframe tbody tr th:only-of-type {\n",
       "        vertical-align: middle;\n",
       "    }\n",
       "\n",
       "    .dataframe tbody tr th {\n",
       "        vertical-align: top;\n",
       "    }\n",
       "\n",
       "    .dataframe thead th {\n",
       "        text-align: right;\n",
       "    }\n",
       "</style>\n",
       "<table border=\"1\" class=\"dataframe\">\n",
       "  <thead>\n",
       "    <tr style=\"text-align: right;\">\n",
       "      <th></th>\n",
       "      <th>true</th>\n",
       "      <th>animals</th>\n",
       "      <th>cities</th>\n",
       "      <th>companies</th>\n",
       "      <th>elements</th>\n",
       "      <th>facts</th>\n",
       "      <th>generated</th>\n",
       "      <th>inventions</th>\n",
       "    </tr>\n",
       "    <tr>\n",
       "      <th>Model</th>\n",
       "      <th></th>\n",
       "      <th></th>\n",
       "      <th></th>\n",
       "      <th></th>\n",
       "      <th></th>\n",
       "      <th></th>\n",
       "      <th></th>\n",
       "      <th></th>\n",
       "    </tr>\n",
       "  </thead>\n",
       "  <tbody>\n",
       "    <tr>\n",
       "      <th>(M1) Global Threshold</th>\n",
       "      <td>0.347635</td>\n",
       "      <td>0.942105</td>\n",
       "      <td>0.755906</td>\n",
       "      <td>0.750000</td>\n",
       "      <td>0.979472</td>\n",
       "      <td>0.329004</td>\n",
       "      <td>0.090164</td>\n",
       "      <td>0.625483</td>\n",
       "    </tr>\n",
       "    <tr>\n",
       "      <th>(M2) Individual Threshold</th>\n",
       "      <td>0.666313</td>\n",
       "      <td>0.938667</td>\n",
       "      <td>0.793169</td>\n",
       "      <td>0.954357</td>\n",
       "      <td>0.976608</td>\n",
       "      <td>0.050420</td>\n",
       "      <td>0.054054</td>\n",
       "      <td>0.656827</td>\n",
       "    </tr>\n",
       "    <tr>\n",
       "      <th>(M3) Global Similarity LogReg</th>\n",
       "      <td>0.150685</td>\n",
       "      <td>0.915730</td>\n",
       "      <td>0.624454</td>\n",
       "      <td>0.498498</td>\n",
       "      <td>0.957831</td>\n",
       "      <td>0.165414</td>\n",
       "      <td>0.066667</td>\n",
       "      <td>0.361111</td>\n",
       "    </tr>\n",
       "    <tr>\n",
       "      <th>(M4) Individual Similarity LogReg</th>\n",
       "      <td>0.440795</td>\n",
       "      <td>0.928962</td>\n",
       "      <td>0.778420</td>\n",
       "      <td>0.931624</td>\n",
       "      <td>0.970414</td>\n",
       "      <td>0.000000</td>\n",
       "      <td>0.000000</td>\n",
       "      <td>0.054945</td>\n",
       "    </tr>\n",
       "    <tr>\n",
       "      <th>(M5) Embeddings LogReg</th>\n",
       "      <td>0.860300</td>\n",
       "      <td>0.994792</td>\n",
       "      <td>1.000000</td>\n",
       "      <td>0.998004</td>\n",
       "      <td>0.997101</td>\n",
       "      <td>0.986900</td>\n",
       "      <td>0.927536</td>\n",
       "      <td>0.994382</td>\n",
       "    </tr>\n",
       "  </tbody>\n",
       "</table>\n",
       "</div>"
      ],
      "text/plain": [
       "                                       true   animals    cities  companies  \\\n",
       "Model                                                                        \n",
       "(M1) Global Threshold              0.347635  0.942105  0.755906   0.750000   \n",
       "(M2) Individual Threshold          0.666313  0.938667  0.793169   0.954357   \n",
       "(M3) Global Similarity LogReg      0.150685  0.915730  0.624454   0.498498   \n",
       "(M4) Individual Similarity LogReg  0.440795  0.928962  0.778420   0.931624   \n",
       "(M5) Embeddings LogReg             0.860300  0.994792  1.000000   0.998004   \n",
       "\n",
       "                                   elements     facts  generated  inventions  \n",
       "Model                                                                         \n",
       "(M1) Global Threshold              0.979472  0.329004   0.090164    0.625483  \n",
       "(M2) Individual Threshold          0.976608  0.050420   0.054054    0.656827  \n",
       "(M3) Global Similarity LogReg      0.957831  0.165414   0.066667    0.361111  \n",
       "(M4) Individual Similarity LogReg  0.970414  0.000000   0.000000    0.054945  \n",
       "(M5) Embeddings LogReg             0.997101  0.986900   0.927536    0.994382  "
      ]
     },
     "execution_count": 27,
     "metadata": {},
     "output_type": "execute_result"
    }
   ],
   "source": [
    "print('Test F1')\n",
    "f1_df = get_all_models_classification_metric(models, test_metadata_df, test_cosine_similarity_df,\n",
    "                                         test_hidden_states, metric='f1')\n",
    "f1_df"
   ]
  },
  {
   "cell_type": "code",
   "execution_count": 28,
   "id": "14b0501c-e14d-4364-a077-7f190be95205",
   "metadata": {},
   "outputs": [
    {
     "name": "stdout",
     "output_type": "stream",
     "text": [
      "Test AUC\n"
     ]
    },
    {
     "data": {
      "text/html": [
       "<div>\n",
       "<style scoped>\n",
       "    .dataframe tbody tr th:only-of-type {\n",
       "        vertical-align: middle;\n",
       "    }\n",
       "\n",
       "    .dataframe tbody tr th {\n",
       "        vertical-align: top;\n",
       "    }\n",
       "\n",
       "    .dataframe thead th {\n",
       "        text-align: right;\n",
       "    }\n",
       "</style>\n",
       "<table border=\"1\" class=\"dataframe\">\n",
       "  <thead>\n",
       "    <tr style=\"text-align: right;\">\n",
       "      <th></th>\n",
       "      <th>true</th>\n",
       "      <th>animals</th>\n",
       "      <th>cities</th>\n",
       "      <th>companies</th>\n",
       "      <th>elements</th>\n",
       "      <th>facts</th>\n",
       "      <th>generated</th>\n",
       "      <th>inventions</th>\n",
       "    </tr>\n",
       "    <tr>\n",
       "      <th>Model</th>\n",
       "      <th></th>\n",
       "      <th></th>\n",
       "      <th></th>\n",
       "      <th></th>\n",
       "      <th></th>\n",
       "      <th></th>\n",
       "      <th></th>\n",
       "      <th></th>\n",
       "    </tr>\n",
       "  </thead>\n",
       "  <tbody>\n",
       "    <tr>\n",
       "      <th>(M1) Global Threshold</th>\n",
       "      <td>-</td>\n",
       "      <td>-</td>\n",
       "      <td>-</td>\n",
       "      <td>-</td>\n",
       "      <td>-</td>\n",
       "      <td>-</td>\n",
       "      <td>-</td>\n",
       "      <td>-</td>\n",
       "    </tr>\n",
       "    <tr>\n",
       "      <th>(M2) Individual Threshold</th>\n",
       "      <td>-</td>\n",
       "      <td>-</td>\n",
       "      <td>-</td>\n",
       "      <td>-</td>\n",
       "      <td>-</td>\n",
       "      <td>-</td>\n",
       "      <td>-</td>\n",
       "      <td>-</td>\n",
       "    </tr>\n",
       "    <tr>\n",
       "      <th>(M3) Global Similarity LogReg</th>\n",
       "      <td>0.519903</td>\n",
       "      <td>0.996876</td>\n",
       "      <td>0.740475</td>\n",
       "      <td>0.994526</td>\n",
       "      <td>0.999595</td>\n",
       "      <td>0.776631</td>\n",
       "      <td>0.695172</td>\n",
       "      <td>0.785897</td>\n",
       "    </tr>\n",
       "    <tr>\n",
       "      <th>(M4) Individual Similarity LogReg</th>\n",
       "      <td>0.480097</td>\n",
       "      <td>0.996876</td>\n",
       "      <td>0.740475</td>\n",
       "      <td>0.994526</td>\n",
       "      <td>0.999595</td>\n",
       "      <td>0.776631</td>\n",
       "      <td>0.695172</td>\n",
       "      <td>0.785897</td>\n",
       "    </tr>\n",
       "    <tr>\n",
       "      <th>(M5) Embeddings LogReg</th>\n",
       "      <td>0.935117</td>\n",
       "      <td>1.0</td>\n",
       "      <td>1.0</td>\n",
       "      <td>1.0</td>\n",
       "      <td>1.0</td>\n",
       "      <td>0.99997</td>\n",
       "      <td>0.99975</td>\n",
       "      <td>0.999995</td>\n",
       "    </tr>\n",
       "  </tbody>\n",
       "</table>\n",
       "</div>"
      ],
      "text/plain": [
       "                                       true   animals    cities companies  \\\n",
       "Model                                                                       \n",
       "(M1) Global Threshold                     -         -         -         -   \n",
       "(M2) Individual Threshold                 -         -         -         -   \n",
       "(M3) Global Similarity LogReg      0.519903  0.996876  0.740475  0.994526   \n",
       "(M4) Individual Similarity LogReg  0.480097  0.996876  0.740475  0.994526   \n",
       "(M5) Embeddings LogReg             0.935117       1.0       1.0       1.0   \n",
       "\n",
       "                                   elements     facts generated inventions  \n",
       "Model                                                                       \n",
       "(M1) Global Threshold                     -         -         -          -  \n",
       "(M2) Individual Threshold                 -         -         -          -  \n",
       "(M3) Global Similarity LogReg      0.999595  0.776631  0.695172   0.785897  \n",
       "(M4) Individual Similarity LogReg  0.999595  0.776631  0.695172   0.785897  \n",
       "(M5) Embeddings LogReg                  1.0   0.99997   0.99975   0.999995  "
      ]
     },
     "execution_count": 28,
     "metadata": {},
     "output_type": "execute_result"
    }
   ],
   "source": [
    "print('Test AUC')\n",
    "auc_df = get_all_models_classification_metric(models, test_metadata_df, test_cosine_similarity_df,\n",
    "                                         test_hidden_states, metric='auc')\n",
    "auc_df"
   ]
  },
  {
   "cell_type": "code",
   "execution_count": 29,
   "id": "0a62941a-3960-4d00-a1af-d7b8c18e5ed0",
   "metadata": {},
   "outputs": [
    {
     "name": "stdout",
     "output_type": "stream",
     "text": [
      "Test K1\n"
     ]
    },
    {
     "data": {
      "text/html": [
       "<div>\n",
       "<style scoped>\n",
       "    .dataframe tbody tr th:only-of-type {\n",
       "        vertical-align: middle;\n",
       "    }\n",
       "\n",
       "    .dataframe tbody tr th {\n",
       "        vertical-align: top;\n",
       "    }\n",
       "\n",
       "    .dataframe thead th {\n",
       "        text-align: right;\n",
       "    }\n",
       "</style>\n",
       "<table border=\"1\" class=\"dataframe\">\n",
       "  <thead>\n",
       "    <tr style=\"text-align: right;\">\n",
       "      <th></th>\n",
       "      <th>true</th>\n",
       "      <th>animals</th>\n",
       "      <th>cities</th>\n",
       "      <th>companies</th>\n",
       "      <th>elements</th>\n",
       "      <th>facts</th>\n",
       "      <th>generated</th>\n",
       "      <th>inventions</th>\n",
       "    </tr>\n",
       "    <tr>\n",
       "      <th>Model</th>\n",
       "      <th></th>\n",
       "      <th></th>\n",
       "      <th></th>\n",
       "      <th></th>\n",
       "      <th></th>\n",
       "      <th></th>\n",
       "      <th></th>\n",
       "      <th></th>\n",
       "    </tr>\n",
       "  </thead>\n",
       "  <tbody>\n",
       "    <tr>\n",
       "      <th>(M1) Global Threshold</th>\n",
       "      <td>-</td>\n",
       "      <td>-</td>\n",
       "      <td>-</td>\n",
       "      <td>-</td>\n",
       "      <td>-</td>\n",
       "      <td>-</td>\n",
       "      <td>-</td>\n",
       "      <td>-</td>\n",
       "    </tr>\n",
       "    <tr>\n",
       "      <th>(M2) Individual Threshold</th>\n",
       "      <td>-</td>\n",
       "      <td>-</td>\n",
       "      <td>-</td>\n",
       "      <td>-</td>\n",
       "      <td>-</td>\n",
       "      <td>-</td>\n",
       "      <td>-</td>\n",
       "      <td>-</td>\n",
       "    </tr>\n",
       "    <tr>\n",
       "      <th>(M3) Global Similarity LogReg</th>\n",
       "      <td>0.240108</td>\n",
       "      <td>0.788223</td>\n",
       "      <td>0.756121</td>\n",
       "      <td>0.806444</td>\n",
       "      <td>0.832084</td>\n",
       "      <td>0.699132</td>\n",
       "      <td>0.778846</td>\n",
       "      <td>0.764386</td>\n",
       "    </tr>\n",
       "    <tr>\n",
       "      <th>(M4) Individual Similarity LogReg</th>\n",
       "      <td>0.016024</td>\n",
       "      <td>0.824228</td>\n",
       "      <td>0.681731</td>\n",
       "      <td>0.785656</td>\n",
       "      <td>0.850578</td>\n",
       "      <td>0.812315</td>\n",
       "      <td>0.928599</td>\n",
       "      <td>0.774117</td>\n",
       "    </tr>\n",
       "    <tr>\n",
       "      <th>(M5) Embeddings LogReg</th>\n",
       "      <td>0.472079</td>\n",
       "      <td>0.847292</td>\n",
       "      <td>0.74941</td>\n",
       "      <td>0.800823</td>\n",
       "      <td>0.862343</td>\n",
       "      <td>0.908792</td>\n",
       "      <td>0.971186</td>\n",
       "      <td>0.858793</td>\n",
       "    </tr>\n",
       "  </tbody>\n",
       "</table>\n",
       "</div>"
      ],
      "text/plain": [
       "                                       true   animals    cities companies  \\\n",
       "Model                                                                       \n",
       "(M1) Global Threshold                     -         -         -         -   \n",
       "(M2) Individual Threshold                 -         -         -         -   \n",
       "(M3) Global Similarity LogReg      0.240108  0.788223  0.756121  0.806444   \n",
       "(M4) Individual Similarity LogReg  0.016024  0.824228  0.681731  0.785656   \n",
       "(M5) Embeddings LogReg             0.472079  0.847292   0.74941  0.800823   \n",
       "\n",
       "                                   elements     facts generated inventions  \n",
       "Model                                                                       \n",
       "(M1) Global Threshold                     -         -         -          -  \n",
       "(M2) Individual Threshold                 -         -         -          -  \n",
       "(M3) Global Similarity LogReg      0.832084  0.699132  0.778846   0.764386  \n",
       "(M4) Individual Similarity LogReg  0.850578  0.812315  0.928599   0.774117  \n",
       "(M5) Embeddings LogReg             0.862343  0.908792  0.971186   0.858793  "
      ]
     },
     "execution_count": 29,
     "metadata": {},
     "output_type": "execute_result"
    }
   ],
   "source": [
    "print('Test K1')\n",
    "k1_df = get_all_models_classification_metric(models, test_metadata_df, test_cosine_similarity_df,\n",
    "                                         test_hidden_states, metric='K1')\n",
    "k1_df"
   ]
  },
  {
   "cell_type": "code",
   "execution_count": 30,
   "id": "ce64fef6-db51-4280-84d8-6a1e1bcd90da",
   "metadata": {},
   "outputs": [
    {
     "name": "stdout",
     "output_type": "stream",
     "text": [
      "Test K2\n"
     ]
    },
    {
     "data": {
      "text/html": [
       "<div>\n",
       "<style scoped>\n",
       "    .dataframe tbody tr th:only-of-type {\n",
       "        vertical-align: middle;\n",
       "    }\n",
       "\n",
       "    .dataframe tbody tr th {\n",
       "        vertical-align: top;\n",
       "    }\n",
       "\n",
       "    .dataframe thead th {\n",
       "        text-align: right;\n",
       "    }\n",
       "</style>\n",
       "<table border=\"1\" class=\"dataframe\">\n",
       "  <thead>\n",
       "    <tr style=\"text-align: right;\">\n",
       "      <th></th>\n",
       "      <th>true</th>\n",
       "      <th>animals</th>\n",
       "      <th>cities</th>\n",
       "      <th>companies</th>\n",
       "      <th>elements</th>\n",
       "      <th>facts</th>\n",
       "      <th>generated</th>\n",
       "      <th>inventions</th>\n",
       "    </tr>\n",
       "    <tr>\n",
       "      <th>Model</th>\n",
       "      <th></th>\n",
       "      <th></th>\n",
       "      <th></th>\n",
       "      <th></th>\n",
       "      <th></th>\n",
       "      <th></th>\n",
       "      <th></th>\n",
       "      <th></th>\n",
       "    </tr>\n",
       "  </thead>\n",
       "  <tbody>\n",
       "    <tr>\n",
       "      <th>(M1) Global Threshold</th>\n",
       "      <td>-</td>\n",
       "      <td>-</td>\n",
       "      <td>-</td>\n",
       "      <td>-</td>\n",
       "      <td>-</td>\n",
       "      <td>-</td>\n",
       "      <td>-</td>\n",
       "      <td>-</td>\n",
       "    </tr>\n",
       "    <tr>\n",
       "      <th>(M2) Individual Threshold</th>\n",
       "      <td>-</td>\n",
       "      <td>-</td>\n",
       "      <td>-</td>\n",
       "      <td>-</td>\n",
       "      <td>-</td>\n",
       "      <td>-</td>\n",
       "      <td>-</td>\n",
       "      <td>-</td>\n",
       "    </tr>\n",
       "    <tr>\n",
       "      <th>(M3) Global Similarity LogReg</th>\n",
       "      <td>0.084383</td>\n",
       "      <td>0.670079</td>\n",
       "      <td>0.598735</td>\n",
       "      <td>0.698249</td>\n",
       "      <td>0.739606</td>\n",
       "      <td>0.536643</td>\n",
       "      <td>0.631871</td>\n",
       "      <td>0.609061</td>\n",
       "    </tr>\n",
       "    <tr>\n",
       "      <th>(M4) Individual Similarity LogReg</th>\n",
       "      <td>0.0003</td>\n",
       "      <td>0.749161</td>\n",
       "      <td>0.494578</td>\n",
       "      <td>0.699977</td>\n",
       "      <td>0.802291</td>\n",
       "      <td>0.677796</td>\n",
       "      <td>0.862467</td>\n",
       "      <td>0.62147</td>\n",
       "    </tr>\n",
       "    <tr>\n",
       "      <th>(M5) Embeddings LogReg</th>\n",
       "      <td>0.373316</td>\n",
       "      <td>0.846659</td>\n",
       "      <td>0.749373</td>\n",
       "      <td>0.800624</td>\n",
       "      <td>0.861494</td>\n",
       "      <td>0.90688</td>\n",
       "      <td>0.969358</td>\n",
       "      <td>0.85711</td>\n",
       "    </tr>\n",
       "  </tbody>\n",
       "</table>\n",
       "</div>"
      ],
      "text/plain": [
       "                                       true   animals    cities companies  \\\n",
       "Model                                                                       \n",
       "(M1) Global Threshold                     -         -         -         -   \n",
       "(M2) Individual Threshold                 -         -         -         -   \n",
       "(M3) Global Similarity LogReg      0.084383  0.670079  0.598735  0.698249   \n",
       "(M4) Individual Similarity LogReg    0.0003  0.749161  0.494578  0.699977   \n",
       "(M5) Embeddings LogReg             0.373316  0.846659  0.749373  0.800624   \n",
       "\n",
       "                                   elements     facts generated inventions  \n",
       "Model                                                                       \n",
       "(M1) Global Threshold                     -         -         -          -  \n",
       "(M2) Individual Threshold                 -         -         -          -  \n",
       "(M3) Global Similarity LogReg      0.739606  0.536643  0.631871   0.609061  \n",
       "(M4) Individual Similarity LogReg  0.802291  0.677796  0.862467    0.62147  \n",
       "(M5) Embeddings LogReg             0.861494   0.90688  0.969358    0.85711  "
      ]
     },
     "execution_count": 30,
     "metadata": {},
     "output_type": "execute_result"
    }
   ],
   "source": [
    "print('Test K2')\n",
    "k2_df = get_all_models_classification_metric(models, test_metadata_df, test_cosine_similarity_df,\n",
    "                                         test_hidden_states, metric='K2')\n",
    "k2_df"
   ]
  },
  {
   "cell_type": "code",
   "execution_count": 31,
   "id": "6ead9af1-0f48-4366-834e-cdd2a7cbb752",
   "metadata": {},
   "outputs": [
    {
     "name": "stdout",
     "output_type": "stream",
     "text": [
      "Test Kmax\n"
     ]
    },
    {
     "data": {
      "text/html": [
       "<div>\n",
       "<style scoped>\n",
       "    .dataframe tbody tr th:only-of-type {\n",
       "        vertical-align: middle;\n",
       "    }\n",
       "\n",
       "    .dataframe tbody tr th {\n",
       "        vertical-align: top;\n",
       "    }\n",
       "\n",
       "    .dataframe thead th {\n",
       "        text-align: right;\n",
       "    }\n",
       "</style>\n",
       "<table border=\"1\" class=\"dataframe\">\n",
       "  <thead>\n",
       "    <tr style=\"text-align: right;\">\n",
       "      <th></th>\n",
       "      <th>true</th>\n",
       "      <th>animals</th>\n",
       "      <th>cities</th>\n",
       "      <th>companies</th>\n",
       "      <th>elements</th>\n",
       "      <th>facts</th>\n",
       "      <th>generated</th>\n",
       "      <th>inventions</th>\n",
       "    </tr>\n",
       "    <tr>\n",
       "      <th>Model</th>\n",
       "      <th></th>\n",
       "      <th></th>\n",
       "      <th></th>\n",
       "      <th></th>\n",
       "      <th></th>\n",
       "      <th></th>\n",
       "      <th></th>\n",
       "      <th></th>\n",
       "    </tr>\n",
       "  </thead>\n",
       "  <tbody>\n",
       "    <tr>\n",
       "      <th>(M1) Global Threshold</th>\n",
       "      <td>-</td>\n",
       "      <td>-</td>\n",
       "      <td>-</td>\n",
       "      <td>-</td>\n",
       "      <td>-</td>\n",
       "      <td>-</td>\n",
       "      <td>-</td>\n",
       "      <td>-</td>\n",
       "    </tr>\n",
       "    <tr>\n",
       "      <th>(M2) Individual Threshold</th>\n",
       "      <td>-</td>\n",
       "      <td>-</td>\n",
       "      <td>-</td>\n",
       "      <td>-</td>\n",
       "      <td>-</td>\n",
       "      <td>-</td>\n",
       "      <td>-</td>\n",
       "      <td>-</td>\n",
       "    </tr>\n",
       "    <tr>\n",
       "      <th>(M3) Global Similarity LogReg</th>\n",
       "      <td>0.089445</td>\n",
       "      <td>0.385266</td>\n",
       "      <td>0.544559</td>\n",
       "      <td>0.557195</td>\n",
       "      <td>0.502376</td>\n",
       "      <td>0.279743</td>\n",
       "      <td>0.272849</td>\n",
       "      <td>0.322384</td>\n",
       "    </tr>\n",
       "    <tr>\n",
       "      <th>(M4) Individual Similarity LogReg</th>\n",
       "      <td>0.009994</td>\n",
       "      <td>0.638588</td>\n",
       "      <td>0.324855</td>\n",
       "      <td>0.605555</td>\n",
       "      <td>0.787507</td>\n",
       "      <td>0.425463</td>\n",
       "      <td>0.9244</td>\n",
       "      <td>0.342734</td>\n",
       "    </tr>\n",
       "    <tr>\n",
       "      <th>(M5) Embeddings LogReg</th>\n",
       "      <td>0.398265</td>\n",
       "      <td>0.8456</td>\n",
       "      <td>0.749388</td>\n",
       "      <td>0.800316</td>\n",
       "      <td>0.86233</td>\n",
       "      <td>0.907569</td>\n",
       "      <td>0.968881</td>\n",
       "      <td>0.85676</td>\n",
       "    </tr>\n",
       "  </tbody>\n",
       "</table>\n",
       "</div>"
      ],
      "text/plain": [
       "                                       true   animals    cities companies  \\\n",
       "Model                                                                       \n",
       "(M1) Global Threshold                     -         -         -         -   \n",
       "(M2) Individual Threshold                 -         -         -         -   \n",
       "(M3) Global Similarity LogReg      0.089445  0.385266  0.544559  0.557195   \n",
       "(M4) Individual Similarity LogReg  0.009994  0.638588  0.324855  0.605555   \n",
       "(M5) Embeddings LogReg             0.398265    0.8456  0.749388  0.800316   \n",
       "\n",
       "                                   elements     facts generated inventions  \n",
       "Model                                                                       \n",
       "(M1) Global Threshold                     -         -         -          -  \n",
       "(M2) Individual Threshold                 -         -         -          -  \n",
       "(M3) Global Similarity LogReg      0.502376  0.279743  0.272849   0.322384  \n",
       "(M4) Individual Similarity LogReg  0.787507  0.425463    0.9244   0.342734  \n",
       "(M5) Embeddings LogReg              0.86233  0.907569  0.968881    0.85676  "
      ]
     },
     "execution_count": 31,
     "metadata": {},
     "output_type": "execute_result"
    }
   ],
   "source": [
    "print('Test Kmax')\n",
    "kmax_df = get_all_models_classification_metric(models, test_metadata_df, test_cosine_similarity_df,\n",
    "                                         test_hidden_states, metric='Kmax')\n",
    "kmax_df"
   ]
  },
  {
   "cell_type": "code",
   "execution_count": null,
   "id": "7507a06e-b825-4256-bd91-158ba60c46da",
   "metadata": {},
   "outputs": [],
   "source": []
  }
 ],
 "metadata": {
  "kernelspec": {
   "display_name": "Python 3 (ipykernel)",
   "language": "python",
   "name": "python3"
  },
  "language_info": {
   "codemirror_mode": {
    "name": "ipython",
    "version": 3
   },
   "file_extension": ".py",
   "mimetype": "text/x-python",
   "name": "python",
   "nbconvert_exporter": "python",
   "pygments_lexer": "ipython3",
   "version": "3.10.10"
  }
 },
 "nbformat": 4,
 "nbformat_minor": 5
}
