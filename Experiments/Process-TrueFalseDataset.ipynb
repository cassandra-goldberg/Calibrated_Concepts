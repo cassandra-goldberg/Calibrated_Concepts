{
 "cells": [
  {
   "cell_type": "markdown",
   "id": "c3806345-3c6b-41bf-9f74-4b551b29c7d5",
   "metadata": {},
   "source": [
    "# Process True False Dataset\n",
    "\n",
    "Dataset from the paper [The Internal State of an LLM Knows When It's Lying](https://aclanthology.org/2023.findings-emnlp.68.pdf)\n",
    "\n",
    "You can download the dataset [here](http://azariaa.com/Content/Datasets/true-false-dataset.zip)."
   ]
  },
  {
   "cell_type": "code",
   "execution_count": 1,
   "id": "bb8f6c14-d2bf-4573-8048-a08df2634e11",
   "metadata": {},
   "outputs": [
    {
     "name": "stdout",
     "output_type": "stream",
     "text": [
      "Device: cuda\n"
     ]
    }
   ],
   "source": [
    "import pandas as pd\n",
    "import numpy as np\n",
    "import os\n",
    "import torch\n",
    "import matplotlib.pyplot as plt\n",
    "\n",
    "from tqdm.notebook import tqdm\n",
    "from transformers import AutoModelForCausalLM, AutoTokenizer\n",
    "\n",
    "from sklearn.metrics.pairwise import cosine_similarity\n",
    "\n",
    "device = \"cuda\" if torch.cuda.is_available() else \"CPU\"\n",
    "print(f'Device: {device}')"
   ]
  },
  {
   "cell_type": "code",
   "execution_count": 2,
   "id": "8ec63df3-9723-46a3-bada-4bf7e38e5938",
   "metadata": {},
   "outputs": [],
   "source": [
    "dataset_name = 'true-false-dataset'\n",
    "categories = ['animals', 'cities', 'companies', 'elements', \n",
    "              'facts', 'generated', 'inventions']\n",
    "\n",
    "data_path = f'../Data/{dataset_name}'\n",
    "embeddings_path = f'Embeddings/{dataset_name}'\n",
    "concepts_path = f'Concepts/{dataset_name}'\n",
    "cos_sims_path = f'Cosine_Similarities/{dataset_name}'"
   ]
  },
  {
   "cell_type": "code",
   "execution_count": 3,
   "id": "5240aa09-dc31-45f6-859e-f3e5b77d3fbe",
   "metadata": {},
   "outputs": [
    {
     "data": {
      "application/vnd.jupyter.widget-view+json": {
       "model_id": "6df393b12a414f1b9a6ae48897aa811a",
       "version_major": 2,
       "version_minor": 0
      },
      "text/plain": [
       "Loading checkpoint shards:   0%|          | 0/4 [00:00<?, ?it/s]"
      ]
     },
     "metadata": {},
     "output_type": "display_data"
    },
    {
     "data": {
      "text/plain": [
       "LlamaForCausalLM(\n",
       "  (model): LlamaModel(\n",
       "    (embed_tokens): Embedding(128256, 4096)\n",
       "    (layers): ModuleList(\n",
       "      (0-31): 32 x LlamaDecoderLayer(\n",
       "        (self_attn): LlamaSdpaAttention(\n",
       "          (q_proj): Linear(in_features=4096, out_features=4096, bias=False)\n",
       "          (k_proj): Linear(in_features=4096, out_features=1024, bias=False)\n",
       "          (v_proj): Linear(in_features=4096, out_features=1024, bias=False)\n",
       "          (o_proj): Linear(in_features=4096, out_features=4096, bias=False)\n",
       "          (rotary_emb): LlamaRotaryEmbedding()\n",
       "        )\n",
       "        (mlp): LlamaMLP(\n",
       "          (gate_proj): Linear(in_features=4096, out_features=14336, bias=False)\n",
       "          (up_proj): Linear(in_features=4096, out_features=14336, bias=False)\n",
       "          (down_proj): Linear(in_features=14336, out_features=4096, bias=False)\n",
       "          (act_fn): SiLU()\n",
       "        )\n",
       "        (input_layernorm): LlamaRMSNorm((4096,), eps=1e-05)\n",
       "        (post_attention_layernorm): LlamaRMSNorm((4096,), eps=1e-05)\n",
       "      )\n",
       "    )\n",
       "    (norm): LlamaRMSNorm((4096,), eps=1e-05)\n",
       "    (rotary_emb): LlamaRotaryEmbedding()\n",
       "  )\n",
       "  (lm_head): Linear(in_features=4096, out_features=128256, bias=False)\n",
       ")"
      ]
     },
     "execution_count": 3,
     "metadata": {},
     "output_type": "execute_result"
    }
   ],
   "source": [
    "model_name_or_path = \"meta-llama/Meta-Llama-3-8B-Instruct\"\n",
    "\n",
    "tokenizer = AutoTokenizer.from_pretrained(model_name_or_path)\n",
    "tokenizer.pad_token = tokenizer.eos_token\n",
    "tokenizer.padding_side = \"left\"\n",
    "\n",
    "model = AutoModelForCausalLM.from_pretrained(model_name_or_path)\n",
    "model.to(device)\n",
    "model.eval()"
   ]
  },
  {
   "cell_type": "markdown",
   "id": "2a956e43-ba35-4ae6-b4a8-43b6472dd9d9",
   "metadata": {},
   "source": [
    "## Processing statements"
   ]
  },
  {
   "cell_type": "code",
   "execution_count": 4,
   "id": "a588f998-dc4b-4aba-9b00-4bc23ef91f10",
   "metadata": {},
   "outputs": [],
   "source": [
    "def get_category(category, data_path):\n",
    "    cat_path = os.path.join(data_path, f'{category}_true_false.csv')\n",
    "    df_cat = pd.read_csv(cat_path)\n",
    "    df_cat['category'] = category\n",
    "    return df_cat"
   ]
  },
  {
   "cell_type": "code",
   "execution_count": 5,
   "id": "5520ed8c-f445-4df4-b4e4-95e69754fa86",
   "metadata": {},
   "outputs": [],
   "source": [
    "def get_categories(categories, data_path):\n",
    "    df_list = []\n",
    "    for category in categories:\n",
    "        df_cat = get_category(category, data_path=data_path)\n",
    "        df_list.append(df_cat)\n",
    "    df = pd.concat(df_list, ignore_index=True)\n",
    "    return df"
   ]
  },
  {
   "cell_type": "code",
   "execution_count": 6,
   "id": "0b1df244-4b20-422c-ab53-1aab03a2eddc",
   "metadata": {},
   "outputs": [],
   "source": [
    "def get_hidden_states(statements, model, tokenizer, embeddings_path, \n",
    "                      device=device, save=True):\n",
    "    embeddings_file = os.path.join(embeddings_path, 'embeddings.pt')\n",
    "    if os.path.exists(embeddings_file):\n",
    "        print('   Hidden states file found.')\n",
    "        hidden_states = torch.load(embeddings_file)\n",
    "\n",
    "    else:\n",
    "        print('   Hidden states file NOT found.')\n",
    "        hidden_states = []\n",
    "        for statement in tqdm(statements, desc='Getting hidden states'):\n",
    "            tokenized_prompt = tokenizer(statement, return_tensors=\"pt\").to(device)\n",
    "            output = model(**tokenized_prompt, output_hidden_states=True)\n",
    "            \n",
    "            features = output.hidden_states[-1][0][-1]\n",
    "            hidden_state = features.cpu().detach()\n",
    "            hidden_states.append(hidden_state)\n",
    "            \n",
    "            del output\n",
    "            del features\n",
    "            torch.cuda.empty_cache()\n",
    "        hidden_states = torch.stack(hidden_states, dim=0)\n",
    "        if save:\n",
    "            os.makedirs(embeddings_path, exist_ok=True)\n",
    "            torch.save(hidden_states, embeddings_file)\n",
    "            \n",
    "    return hidden_states"
   ]
  },
  {
   "cell_type": "code",
   "execution_count": 7,
   "id": "f2f9b7fa-5c40-4131-9de7-c9e9a976f97d",
   "metadata": {},
   "outputs": [],
   "source": [
    "def process_data(categories, model, tokenizer, data_path, embeddings_path):\n",
    "    print('Getting statements...', end=' ')\n",
    "    df = get_categories(categories, data_path=data_path)\n",
    "    df.to_csv(os.path.join(data_path, 'all_true_false.csv'))\n",
    "    statements = df['statement'].to_list()\n",
    "    print('Done.')\n",
    "\n",
    "    print('Getting hidden states...')\n",
    "    hidden_states = get_hidden_states(statements, model, tokenizer, embeddings_path)\n",
    "    print('Done.')\n",
    "\n",
    "    return df, hidden_states"
   ]
  },
  {
   "cell_type": "code",
   "execution_count": 8,
   "id": "7c12de0a-0af1-4350-a057-2304b62c7066",
   "metadata": {},
   "outputs": [
    {
     "name": "stdout",
     "output_type": "stream",
     "text": [
      "Getting statements... Done.\n",
      "Getting hidden states...\n",
      "   Hidden states file found.\n",
      "Done.\n"
     ]
    }
   ],
   "source": [
    "df, hidden_states = process_data(categories, model, tokenizer, data_path, embeddings_path)"
   ]
  },
  {
   "cell_type": "code",
   "execution_count": 9,
   "id": "aad90a36-3bfe-479e-951f-932726f3a209",
   "metadata": {},
   "outputs": [
    {
     "name": "stdout",
     "output_type": "stream",
     "text": [
      "Number of statements: 6330\n",
      "Number of true statements: 3187\n",
      "Number of false statements: 3143\n",
      "Number of statement categories: 7\n"
     ]
    }
   ],
   "source": [
    "print(f'Number of statements: {df.shape[0]}')\n",
    "print(f'Number of true statements: {df[df[\"label\"] == 1].shape[0]}')\n",
    "print(f'Number of false statements: {df[df[\"label\"] == 0].shape[0]}')\n",
    "print(f'Number of statement categories: {len(df[\"category\"].unique())}')"
   ]
  },
  {
   "cell_type": "markdown",
   "id": "9c039b2d-be13-4cf9-8b03-5674895f3771",
   "metadata": {},
   "source": [
    "## Computing concepts"
   ]
  },
  {
   "cell_type": "code",
   "execution_count": 10,
   "id": "acb60d4c-9cf4-47c7-a157-aff00c43a187",
   "metadata": {},
   "outputs": [],
   "source": [
    "def compute_single_concept(concept, concept_type, df, hidden_states):\n",
    "    hidden_states_cat = hidden_states[df[concept_type] == concept] # Get embeddings from the concept\n",
    "    concept_vect = torch.mean(hidden_states_cat, 0) # Get average embedding\n",
    "    concept_vect = concept_vect / concept_vect.norm() # Normalize vector\n",
    "    return concept_vect\n",
    "\n",
    "def compute_concepts(df, hidden_states, concepts_path, save=True):\n",
    "    label_map = {0: 'False', 1: 'True'}\n",
    "    categories = list(df['category'].unique())\n",
    "    labels = list(df['label'].unique())\n",
    "    concept_names = categories\n",
    "    concept_vectors = []\n",
    "\n",
    "    print('Computing categories concept vectors...', end=' ')\n",
    "    for category in categories:\n",
    "        concept_vect = compute_single_concept(category, 'category', df, hidden_states)\n",
    "        concept_vectors.append(concept_vect)\n",
    "    print('Done.')\n",
    "\n",
    "    print('Computing labels concept vectors...', end=' ')\n",
    "    for label in labels:\n",
    "        concept_vect = compute_single_concept(label, 'label', df, hidden_states)\n",
    "        concept_vectors.append(concept_vect)\n",
    "        concept_names.append(label_map[label])\n",
    "    print('Done.')\n",
    "        \n",
    "    concept_vectors = torch.stack(concept_vectors, dim=0)\n",
    "    if save:\n",
    "        print('Saving concepts...', end=' ')\n",
    "        os.makedirs(concepts_path, exist_ok=True)\n",
    "        concept_vectors_path = os.path.join(concepts_path, 'concept_vectors.pt')\n",
    "        concept_names_path = os.path.join(concepts_path, 'concept_names.pt')\n",
    "        torch.save(concept_vectors, concept_vectors_path)\n",
    "        torch.save(concept_names, concept_names_path)\n",
    "        print('Done.')\n",
    "\n",
    "    print(f'Concepts computed: {concept_names}')\n",
    "    return concept_names, concept_vectors"
   ]
  },
  {
   "cell_type": "code",
   "execution_count": 11,
   "id": "b16fdb6f-1f86-4a3f-96c2-2b653c254645",
   "metadata": {},
   "outputs": [
    {
     "name": "stdout",
     "output_type": "stream",
     "text": [
      "Computing categories concept vectors... Done.\n",
      "Computing labels concept vectors... Done.\n",
      "Saving concepts... Done.\n",
      "Concepts computed: ['animals', 'cities', 'companies', 'elements', 'facts', 'generated', 'inventions', 'True', 'False']\n"
     ]
    }
   ],
   "source": [
    "concepts, concept_vectors = compute_concepts(df, hidden_states, concepts_path)"
   ]
  },
  {
   "cell_type": "markdown",
   "id": "3b39210c-4073-44cf-bc7d-5b239cb1c640",
   "metadata": {},
   "source": [
    "## Compute cosine similarities"
   ]
  },
  {
   "cell_type": "code",
   "execution_count": 12,
   "id": "bad6c2cb-860c-4ffd-a316-00049b43d649",
   "metadata": {},
   "outputs": [],
   "source": [
    "def compute_cosine_sims(hidden_states, concept_vectors, concepts, cos_sims_path,\n",
    "                        save=True):\n",
    "    print('Computing cosine similarities...', end=' ')\n",
    "    similarities = cosine_similarity(hidden_states, concept_vectors)\n",
    "    sim_df = pd.DataFrame(similarities, columns=concepts)\n",
    "    print('Done.')\n",
    "    if save:\n",
    "        print('Saving cosine similarities...', end=' ')\n",
    "        os.makedirs(cos_sims_path, exist_ok=True)\n",
    "        cos_sims_df_path = os.path.join(cos_sims_path, 'cosine_similarities.csv')\n",
    "        sim_df.to_csv(cos_sims_df_path)\n",
    "        print('Done.')\n",
    "        \n",
    "    return sim_df"
   ]
  },
  {
   "cell_type": "code",
   "execution_count": 13,
   "id": "810c89b6-10f0-42f6-b228-c2b3eb7b6855",
   "metadata": {},
   "outputs": [
    {
     "name": "stdout",
     "output_type": "stream",
     "text": [
      "Computing cosine similarities... Done.\n",
      "Saving cosine similarities... Done.\n"
     ]
    }
   ],
   "source": [
    "sim_df = compute_cosine_sims(hidden_states, concept_vectors, concepts, cos_sims_path)"
   ]
  },
  {
   "cell_type": "code",
   "execution_count": 14,
   "id": "ddbfa5d9-f64f-4acf-b532-b84ad6ac599f",
   "metadata": {},
   "outputs": [],
   "source": [
    "def plot_cos_sim_histograms(df, sim_df):\n",
    "    categories = list(df['category'].unique())\n",
    "    fig, axs = plt.subplots(3, 3, figsize=(6,6), sharex=True, sharey=True)\n",
    "    bins = np.linspace(0, 1, 20)\n",
    "    for i, category in enumerate(categories):\n",
    "        ix, iy = int(i/3), i%3\n",
    "        axs[ix,iy].hist([sim_df[df['category']==category][category],\n",
    "                         sim_df[df['category']!=category][category]],\n",
    "                        bins,\n",
    "                        label=['In concept', 'Out of concept'],\n",
    "                        density=True)\n",
    "        axs[ix,iy].set_title(category)\n",
    "    \n",
    "    label_map = {0: 'False', 1: 'True'}\n",
    "    for label in [0,1]:\n",
    "        i += 1\n",
    "        ix, iy = int(i/3), i%3\n",
    "        axs[ix,iy].hist([sim_df[df['label']==label][label_map[label]],\n",
    "                         sim_df[df['label']!=label][label_map[label]]],\n",
    "                        bins,\n",
    "                        label=['In concept', 'Out of concept'],\n",
    "                        density=True)\n",
    "        axs[ix,iy].set_title(label_map[label])\n",
    "    \n",
    "    handles, labels = axs[0,0].get_legend_handles_labels()\n",
    "    fig.legend(handles, labels, bbox_to_anchor=(1.26, 0.9))\n",
    "    fig.supxlabel('Cosine Similarity')\n",
    "    fig.supylabel('Proportion of samples')\n",
    "    fig.suptitle('Cosine similarity in/out of concept')\n",
    "    fig.tight_layout()\n",
    "    \n",
    "    plt.show()"
   ]
  },
  {
   "cell_type": "code",
   "execution_count": 15,
   "id": "1fa13d31-70ad-4230-97f2-d9f43200fe69",
   "metadata": {},
   "outputs": [
    {
     "data": {
      "image/png": "[encoded data removed]",
      "text/plain": [
       "<Figure size 600x600 with 9 Axes>"
      ]
     },
     "metadata": {},
     "output_type": "display_data"
    }
   ],
   "source": [
    "plot_cos_sim_histograms(df, sim_df)"
   ]
  },
  {
   "cell_type": "code",
   "execution_count": null,
   "id": "77d2719c-c9f7-47ac-98ac-5d7c1016833b",
   "metadata": {},
   "outputs": [],
   "source": []
  }
 ],
 "metadata": {
  "kernelspec": {
   "display_name": "Python 3 (ipykernel)",
   "language": "python",
   "name": "python3"
  },
  "language_info": {
   "codemirror_mode": {
    "name": "ipython",
    "version": 3
   },
   "file_extension": ".py",
   "mimetype": "text/x-python",
   "name": "python",
   "nbconvert_exporter": "python",
   "pygments_lexer": "ipython3",
   "version": "3.10.13"
  }
 },
 "nbformat": 4,
 "nbformat_minor": 5
}
