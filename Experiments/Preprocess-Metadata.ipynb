{
 "cells": [
  {
   "cell_type": "markdown",
   "id": "ba401add-bd1c-41da-80cc-97e92765bedb",
   "metadata": {},
   "source": [
    "# Preprocess the metadata for each dataset so that it's in a csv file with the concepts as the columns + the original image filepath"
   ]
  },
  {
   "cell_type": "code",
   "execution_count": 9,
   "id": "fe7a1732-87dc-46a4-b221-1e760e053b96",
   "metadata": {
    "tags": []
   },
   "outputs": [],
   "source": [
    "import os\n",
    "import json\n",
    "import csv"
   ]
  },
  {
   "cell_type": "markdown",
   "id": "f5942268-1059-4722-a04b-669aa31e6ff4",
   "metadata": {},
   "source": [
    "## CLEVR"
   ]
  },
  {
   "cell_type": "code",
   "execution_count": 17,
   "id": "6163e131-58b8-413e-a2ca-35a9c812510a",
   "metadata": {
    "tags": []
   },
   "outputs": [
    {
     "name": "stdout",
     "output_type": "stream",
     "text": [
      "Extracting CLEVR metadata...\n",
      "Metadata saved to ../Data/CLEVR/metadata.csv :)\n"
     ]
    }
   ],
   "source": [
    "def extract_clevr_metadata(base_dir='../Data/CLEVR'):\n",
    "    \"\"\"Extracts metadata (color, shape, image_path) and saves it to a CSV.\"\"\"\n",
    "    \n",
    "    # Subdirectories for images and scenes\n",
    "    image_dir = os.path.join(base_dir, 'images')\n",
    "    scene_dir = os.path.join(base_dir, 'scenes')\n",
    "\n",
    "    # Dictionary to store metadata\n",
    "    metadata = {\n",
    "        'color': [],\n",
    "        'shape': [],\n",
    "        'size': [],\n",
    "        'material': [],\n",
    "        'image_path': []\n",
    "    }\n",
    "\n",
    "    # Extract metadata in a single loop\n",
    "    print(\"Extracting CLEVR metadata...\")\n",
    "    for json_file in os.listdir(scene_dir):\n",
    "        if json_file.endswith('.json'):\n",
    "            json_path = os.path.join(scene_dir, json_file)\n",
    "            \n",
    "            with open(json_path, 'r') as f:\n",
    "                scene_data = json.load(f)\n",
    "\n",
    "            # Extract metadata\n",
    "            objects = scene_data['objects'][0]\n",
    "            metadata['color'].append(objects['color'])\n",
    "            metadata['shape'].append(objects['shape'])\n",
    "            metadata['size'].append(objects['size'])\n",
    "            metadata['material'].append(objects['material'])\n",
    "\n",
    "            # Save the relative image filename\n",
    "            image_filename = os.path.join('Data/CLEVR/images', scene_data['image_filename'])\n",
    "            metadata['image_path'].append(image_filename)\n",
    "            \n",
    "    # Save metadata to CSV\n",
    "    csv_file = os.path.join(base_dir, \"metadata.csv\")\n",
    "    with open(csv_file, mode='w', newline='') as file:\n",
    "        writer = csv.writer(file)\n",
    "        writer.writerow(metadata.keys())\n",
    "        for row in zip(*metadata.values()): \n",
    "            writer.writerow(row)\n",
    "\n",
    "    print(f\"Metadata saved to {csv_file} :)\")\n",
    "extract_clevr_metadata()"
   ]
  }
 ],
 "metadata": {
  "kernelspec": {
   "display_name": "Python 3 (ipykernel)",
   "language": "python",
   "name": "python3"
  },
  "language_info": {
   "codemirror_mode": {
    "name": "ipython",
    "version": 3
   },
   "file_extension": ".py",
   "mimetype": "text/x-python",
   "name": "python",
   "nbconvert_exporter": "python",
   "pygments_lexer": "ipython3",
   "version": "3.10.10"
  }
 },
 "nbformat": 4,
 "nbformat_minor": 5
}
